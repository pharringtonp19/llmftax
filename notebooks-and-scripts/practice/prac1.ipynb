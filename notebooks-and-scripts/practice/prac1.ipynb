{
 "cells": [
  {
   "cell_type": "code",
   "execution_count": null,
   "metadata": {},
   "outputs": [],
   "source": [
    "from transformers import FlaxRobertaModel, RobertaTokenizerFast\n",
    "from datasets import load_dataset\n",
    "import jax\n",
    "\n",
    "dataset = load_dataset('oscar', \"unshuffled_deduplicated_en\", split='train', streaming=True)\n",
    "\n",
    "dummy_input = next(iter(dataset))[\"text\"]\n",
    "\n",
    "tokenizer = RobertaTokenizerFast.from_pretrained(\"FacebookAI/roberta-base\")\n",
    "input_ids = tokenizer(dummy_input, return_tensors=\"np\").input_ids[:, :10]\n",
    "\n",
    "model = FlaxRobertaModel.from_pretrained(\"julien-c/dummy-unknown\")\n",
    "\n",
    "# run a forward pass, should return an object `FlaxBaseModelOutputWithPooling`\n",
    "model(input_ids)"
   ]
  },
  {
   "cell_type": "code",
   "execution_count": null,
   "metadata": {},
   "outputs": [],
   "source": [
    "input_ids"
   ]
  },
  {
   "cell_type": "code",
   "execution_count": null,
   "metadata": {},
   "outputs": [],
   "source": [
    "params = [1, 2, (jnp.arange(3), jnp.ones(2))]\n",
    "print(jax.tree.structure(params))\n",
    "print(jax.tree.leaves(params))"
   ]
  },
  {
   "cell_type": "code",
   "execution_count": null,
   "metadata": {},
   "outputs": [],
   "source": [
    "params = {'n': 5, 'W': jnp.ones((2,2)), 'b': jnp.zeros(2)}\n",
    "print(jax.tree.structure(params))\n",
    "print(jax.tree.leaves(params))"
   ]
  },
  {
   "cell_type": "code",
   "execution_count": null,
   "metadata": {},
   "outputs": [],
   "source": [
    "from typing import NamedTuple \n",
    "\n",
    "class Params(NamedTuple):\n",
    "    a: int \n",
    "    b: float \n",
    "\n",
    "params = Params(1, 5.0)\n",
    "print(jax.tree.structure(params))\n",
    "print(jax.tree.leaves(params))"
   ]
  },
  {
   "cell_type": "code",
   "execution_count": null,
   "metadata": {},
   "outputs": [],
   "source": [
    "key1, key2 = jax.random.split(jax.random.PRNGKey(0))\n",
    "mat = jax.random.normal(key1, (150, 100))\n",
    "batched_x = jax.random.normal(key2, (10, 100))\n",
    "\n",
    "\n",
    "def apply_matrix(x):\n",
    "    return jnp.dot(mat, x)"
   ]
  },
  {
   "cell_type": "code",
   "execution_count": null,
   "metadata": {},
   "outputs": [],
   "source": [
    "def naively_batched_apply_matrix(v_batched):\n",
    "  return jnp.stack([apply_matrix(v) for v in v_batched])\n",
    "\n",
    "print('Naively batched')\n",
    "%timeit naively_batched_apply_matrix(batched_x).block_until_ready()"
   ]
  },
  {
   "cell_type": "code",
   "execution_count": null,
   "metadata": {},
   "outputs": [],
   "source": [
    "@jit\n",
    "def vmap_batched_apply_matrix(batched_x):\n",
    "  return jax.vmap(apply_matrix)(batched_x)\n",
    "\n",
    "vmap_batched_apply_matrix(batched_x)\n",
    "%timeit vmap_batched_apply_matrix(batched_x).block_until_ready()"
   ]
  },
  {
   "cell_type": "code",
   "execution_count": null,
   "metadata": {},
   "outputs": [],
   "source": []
  }
 ],
 "metadata": {
  "kernelspec": {
   "display_name": "llms",
   "language": "python",
   "name": "python3"
  },
  "language_info": {
   "codemirror_mode": {
    "name": "ipython",
    "version": 3
   },
   "file_extension": ".py",
   "mimetype": "text/x-python",
   "name": "python",
   "nbconvert_exporter": "python",
   "pygments_lexer": "ipython3",
   "version": "3.10.12"
  },
  "orig_nbformat": 4
 },
 "nbformat": 4,
 "nbformat_minor": 2
}
